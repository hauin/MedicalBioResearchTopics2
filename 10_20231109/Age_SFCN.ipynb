{
 "cells": [
  {
   "cell_type": "markdown",
   "metadata": {
    "id": "F6pbJ81KvKul"
   },
   "source": [
    "# Brain Age Estimation with SFCN"
   ]
  },
  {
   "cell_type": "markdown",
   "metadata": {
    "id": "vQlrVVYZvKup"
   },
   "source": [
    "## Setup imports"
   ]
  },
  {
   "cell_type": "code",
   "execution_count": null,
   "metadata": {
    "colab": {
     "base_uri": "https://localhost:8080/"
    },
    "executionInfo": {
     "elapsed": 9747,
     "status": "ok",
     "timestamp": 1693213253661,
     "user": {
      "displayName": "Chang-hyun Park",
      "userId": "11098257337995388595"
     },
     "user_tz": -540
    },
    "id": "g2LUzRUFvKup",
    "outputId": "37e2a067-897b-4a4e-b210-5ea5f44fae52",
    "scrolled": true,
    "tags": []
   },
   "outputs": [],
   "source": [
    "import sys\n",
    "import torch\n",
    "import torch.nn as nn\n",
    "import numpy as np\n",
    "import glob\n",
    "import os\n",
    "import pandas as pd\n",
    "import matplotlib.pyplot as plt\n",
    "%matplotlib inline\n",
    "\n",
    "from monai.config import print_config\n",
    "from monai.data import ArrayDataset, DataLoader\n",
    "from monai.metrics import MAEMetric\n",
    "from monai.transforms import (\n",
    "    Transform,\n",
    "    Compose,\n",
    "    LoadImage,\n",
    "    EnsureChannelFirst,\n",
    "    SpatialCrop,\n",
    ")\n",
    "from monai.utils import first\n",
    "\n",
    "sys.path.append(\"C:\\\\UKBiobank_deep_pretrain\") # https://github.com/ha-ha-ha-han/UKBiobank_deep_pretrain/\n",
    "from dp_model.model_files.sfcn import SFCN\n",
    "\n",
    "print_config()"
   ]
  },
  {
   "cell_type": "markdown",
   "metadata": {
    "id": "3YLkmjErvKuq"
   },
   "source": [
    "## Setup data directory and data"
   ]
  },
  {
   "cell_type": "code",
   "execution_count": null,
   "metadata": {
    "colab": {
     "base_uri": "https://localhost:8080/"
    },
    "executionInfo": {
     "elapsed": 382,
     "status": "ok",
     "timestamp": 1693213317901,
     "user": {
      "displayName": "Chang-hyun Park",
      "userId": "11098257337995388595"
     },
     "user_tz": -540
    },
    "id": "M4bGcYzCvKuq",
    "outputId": "8fb93037-33e0-4dad-aea6-07fb16c133fa",
    "tags": []
   },
   "outputs": [],
   "source": [
    "root_dir = \"C:\\\\BrainAgeEstimation\\\\Brain\"\n",
    "print(root_dir)\n",
    "model_dir = os.path.join(root_dir, \"SFCN_Pretrained\")\n",
    "os.makedirs(model_dir, exist_ok=True)\n",
    "images = sorted(glob.glob(os.path.join(root_dir, \"train\", \"*.nii.gz\")))\n",
    "test_images = sorted(glob.glob(os.path.join(root_dir, \"test\", \"*.nii.gz\")))\n",
    "df = pd.read_csv(os.path.join(root_dir, \"age_train.csv\"))"
   ]
  },
  {
   "cell_type": "markdown",
   "metadata": {
    "id": "GzGa-OZQvKus"
   },
   "source": [
    "## Setup transforms and dataset"
   ]
  },
  {
   "cell_type": "code",
   "execution_count": null,
   "metadata": {
    "colab": {
     "base_uri": "https://localhost:8080/",
     "height": 246
    },
    "executionInfo": {
     "elapsed": 325,
     "status": "error",
     "timestamp": 1693213365871,
     "user": {
      "displayName": "Chang-hyun Park",
      "userId": "11098257337995388595"
     },
     "user_tz": -540
    },
    "id": "a71TP7hevKus",
    "outputId": "094a5be0-2961-454f-e7de-c7bfc265e5f6",
    "tags": []
   },
   "outputs": [],
   "source": [
    "batch_size = 1\n",
    "\n",
    "class DivideByMean(Transform):\n",
    "    def __call__(self, data):\n",
    "        return data/data.mean()\n",
    "\n",
    "# Define transforms for image\n",
    "imtrans = Compose(\n",
    "    [\n",
    "        LoadImage(image_only=True),\n",
    "        EnsureChannelFirst(),\n",
    "        DivideByMean(),\n",
    "        SpatialCrop(roi_center=(84, 102, 84), roi_size=(160, 192, 160)),\n",
    "    ]\n",
    ")\n",
    "\n",
    "# Define dataset and dataloader\n",
    "train_ds = ArrayDataset(img=images, img_transform=imtrans, labels=df[\"Age\"].values)\n",
    "train_loader = DataLoader(train_ds, batch_size=batch_size, shuffle=False, num_workers=0, pin_memory=torch.cuda.is_available())\n",
    "test_ds = ArrayDataset(img=test_images, img_transform=imtrans)\n",
    "test_loader = DataLoader(test_ds, batch_size=batch_size, shuffle=False, num_workers=0, pin_memory=torch.cuda.is_available())\n",
    "\n",
    "# Check data shape\n",
    "tr = first(train_loader)\n",
    "print(f\"training: ({list(tr[0].shape)}, {list(tr[1].shape)}) \\u00D7 {len(train_loader)}\")\n",
    "ts = first(test_loader)\n",
    "print(f\"test: ({list(ts[0].shape)}, {list(ts[1].shape)}) \\u00D7 {len(test_loader)}\")"
   ]
  },
  {
   "cell_type": "markdown",
   "metadata": {},
   "source": [
    "## Check data shape and visualize"
   ]
  },
  {
   "cell_type": "code",
   "execution_count": null,
   "metadata": {},
   "outputs": [],
   "source": [
    "fig = plt.figure(\"Example image for training\", (12, 6))\n",
    "ax = fig.add_axes([0.1, 0.1, 0.8, 0.8])\n",
    "ax.set_title(f\"Age = {tr[1][0]} years\")\n",
    "ax.imshow(np.rot90(tr[0][0,0,:, :, 80].detach().cpu()), cmap=\"gray\")\n",
    "ax.axis('off')\n",
    "plt.savefig(os.path.join(model_dir, \"image_age.tif\"), dpi=300)\n",
    "plt.show"
   ]
  },
  {
   "cell_type": "markdown",
   "metadata": {},
   "source": [
    "## Apply pretrained model"
   ]
  },
  {
   "cell_type": "code",
   "execution_count": null,
   "metadata": {},
   "outputs": [],
   "source": [
    "bc = np.arange(42.5,82)\n",
    "device = torch.device(\"cuda\")\n",
    "mae_metric = MAEMetric(reduction=\"mean\")\n",
    "\n",
    "# Apply the best model and save predictions\n",
    "model = SFCN()\n",
    "model = torch.nn.DataParallel(model)\n",
    "fp_ = 'C:\\\\UKBiobank_deep_pretrain\\\\brain_age\\\\run_20190719_00_epoch_best_mae.p'\n",
    "model.load_state_dict(torch.load(fp_))\n",
    "model.eval()\n",
    "predictions = []\n",
    "test_predictions = []\n",
    "labels = np.array([train_ds[i][1] for i in range(len(train_ds))])\n",
    "\n",
    "with torch.no_grad():\n",
    "    for idx in range(len(train_ds)):\n",
    "        data = train_ds[idx][0]\n",
    "        sp = (1,)+data.shape\n",
    "        data = data.reshape(sp)\n",
    "        input = data.clone().detach().type(torch.float32).to(device)\n",
    "        output = model(input)\n",
    "        x = output[0].cpu().reshape([1, -1])\n",
    "        x = x.detach().numpy().reshape(-1)\n",
    "        prob = np.exp(x)\n",
    "        pred = prob@bc\n",
    "        predictions.append(pred)\n",
    "    \n",
    "    for idx in range(len(test_ds)):\n",
    "        data = test_ds[idx][0]\n",
    "        sp = (1,)+data.shape\n",
    "        data = data.reshape(sp)\n",
    "        test_input = data.clone().detach().type(torch.float32).to(device)\n",
    "        test_output = model(test_input)\n",
    "        x = test_output[0].cpu().reshape([1, -1])\n",
    "        x = x.detach().numpy().reshape(-1)\n",
    "        prob = np.exp(x)\n",
    "        pred = prob@bc\n",
    "        test_predictions.append(pred)\n",
    "\n",
    "mae = mae_metric(y_pred=torch.Tensor(predictions).reshape(1,-1), y=torch.Tensor(labels).reshape(1,-1))\n",
    "print(f\"MAE = {mae.item():.1f} years\")\n",
    "withinagerange = (labels > 42) & (labels < 82)\n",
    "mae_withinagerange = mae_metric(y_pred=torch.Tensor(np.array(predictions)[withinagerange]).reshape(1,-1), y=torch.Tensor(labels[withinagerange]).reshape(1,-1)))\n",
    "print(f\"MAE for individuals aged between 42 and 82 years = {mae_withinagerange.item():.1f} years\")"
   ]
  }
 ],
 "metadata": {
  "colab": {
   "gpuType": "T4",
   "provenance": [],
   "toc_visible": true
  },
  "kernelspec": {
   "display_name": "Python 3 (ipykernel)",
   "language": "python",
   "name": "python3"
  },
  "language_info": {
   "codemirror_mode": {
    "name": "ipython",
    "version": 3
   },
   "file_extension": ".py",
   "mimetype": "text/x-python",
   "name": "python",
   "nbconvert_exporter": "python",
   "pygments_lexer": "ipython3",
   "version": "3.11.6"
  }
 },
 "nbformat": 4,
 "nbformat_minor": 1
}
