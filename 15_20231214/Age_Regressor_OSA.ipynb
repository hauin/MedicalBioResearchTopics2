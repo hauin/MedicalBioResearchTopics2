{
 "cells": [
  {
   "cell_type": "markdown",
   "metadata": {
    "id": "F6pbJ81KvKul"
   },
   "source": [
    "# Brain Age Estimation with Regressor"
   ]
  },
  {
   "cell_type": "markdown",
   "metadata": {
    "id": "vQlrVVYZvKup"
   },
   "source": [
    "## Setup imports"
   ]
  },
  {
   "cell_type": "code",
   "execution_count": null,
   "metadata": {
    "colab": {
     "base_uri": "https://localhost:8080/"
    },
    "executionInfo": {
     "elapsed": 9747,
     "status": "ok",
     "timestamp": 1693213253661,
     "user": {
      "displayName": "Chang-hyun Park",
      "userId": "11098257337995388595"
     },
     "user_tz": -540
    },
    "id": "g2LUzRUFvKup",
    "outputId": "37e2a067-897b-4a4e-b210-5ea5f44fae52",
    "scrolled": true,
    "tags": []
   },
   "outputs": [],
   "source": [
    "import torch\n",
    "import torch.nn as nn\n",
    "import numpy as np\n",
    "import glob\n",
    "import os\n",
    "import pandas as pd\n",
    "import logging\n",
    "import time\n",
    "import matplotlib.pyplot as plt\n",
    "%matplotlib inline\n",
    "\n",
    "from monai.config import print_config\n",
    "from monai.data import ArrayDataset, decollate_batch, DataLoader\n",
    "from monai.metrics import MAEMetric\n",
    "from monai.networks.nets import Regressor\n",
    "from monai.transforms import (\n",
    "    Compose,\n",
    "    LoadImage,\n",
    "    EnsureChannelFirst,\n",
    "    SpatialCrop,\n",
    "    Resize,\n",
    "    NormalizeIntensity,\n",
    "    Activations,\n",
    ")\n",
    "from monai.utils import first, set_determinism\n",
    "\n",
    "from sklearn.model_selection import train_test_split\n",
    "import torchinfo\n",
    "\n",
    "print_config()"
   ]
  },
  {
   "cell_type": "markdown",
   "metadata": {},
   "source": [
    "## Set deterministic training for reproducibility"
   ]
  },
  {
   "cell_type": "code",
   "execution_count": 2,
   "metadata": {},
   "outputs": [],
   "source": [
    "set_determinism(seed=0)"
   ]
  },
  {
   "cell_type": "markdown",
   "metadata": {
    "id": "3YLkmjErvKuq"
   },
   "source": [
    "## Setup directories and data"
   ]
  },
  {
   "cell_type": "code",
   "execution_count": null,
   "metadata": {
    "colab": {
     "base_uri": "https://localhost:8080/"
    },
    "executionInfo": {
     "elapsed": 382,
     "status": "ok",
     "timestamp": 1693213317901,
     "user": {
      "displayName": "Chang-hyun Park",
      "userId": "11098257337995388595"
     },
     "user_tz": -540
    },
    "id": "M4bGcYzCvKuq",
    "outputId": "8fb93037-33e0-4dad-aea6-07fb16c133fa",
    "tags": []
   },
   "outputs": [],
   "source": [
    "root_dir = \"C:\\\\BrainAgeEstimation\\\\\\Brain\"\n",
    "print(root_dir)\n",
    "model_dir = os.path.join(root_dir, \"Regressor_OSA\")\n",
    "os.makedirs(model_dir, exist_ok=True)\n",
    "images = sorted(glob.glob(os.path.join(root_dir, \"train\", \"*.nii.gz\")))\n",
    "df = pd.read_csv(os.path.join(root_dir, \"age_train.csv\"))"
   ]
  },
  {
   "cell_type": "markdown",
   "metadata": {
    "id": "9PzSlinvvKur"
   },
   "source": [
    "## Setup logging"
   ]
  },
  {
   "cell_type": "code",
   "execution_count": 4,
   "metadata": {
    "executionInfo": {
     "elapsed": 381,
     "status": "ok",
     "timestamp": 1693212125174,
     "user": {
      "displayName": "Chang-hyun Park",
      "userId": "11098257337995388595"
     },
     "user_tz": -540
    },
    "id": "B0MLWufyvKur"
   },
   "outputs": [],
   "source": [
    "log_file = os.path.join(model_dir, \"BrainAgeEstimation.log\")\n",
    "logging.basicConfig(filename=log_file, level=logging.INFO, format=\"%(asctime)s -  %(message)s\")\n",
    "logger = logging.getLogger()"
   ]
  },
  {
   "cell_type": "markdown",
   "metadata": {
    "id": "GzGa-OZQvKus"
   },
   "source": [
    "## Setup transforms and dataset"
   ]
  },
  {
   "cell_type": "code",
   "execution_count": null,
   "metadata": {
    "colab": {
     "base_uri": "https://localhost:8080/",
     "height": 246
    },
    "executionInfo": {
     "elapsed": 325,
     "status": "error",
     "timestamp": 1693213365871,
     "user": {
      "displayName": "Chang-hyun Park",
      "userId": "11098257337995388595"
     },
     "user_tz": -540
    },
    "id": "a71TP7hevKus",
    "outputId": "094a5be0-2961-454f-e7de-c7bfc265e5f6",
    "tags": []
   },
   "outputs": [],
   "source": [
    "batch_size = 5\n",
    "\n",
    "# Define transforms for image\n",
    "imtrans = Compose(\n",
    "    [\n",
    "        LoadImage(image_only=True),\n",
    "        EnsureChannelFirst(),\n",
    "        SpatialCrop(roi_center=(84, 102, 84), roi_size=(160, 192, 160)),\n",
    "        Resize((64, 64, 64), mode=\"trilinear\"),\n",
    "        NormalizeIntensity(nonzero=True, channel_wise=True),\n",
    "    ]\n",
    ")\n",
    "\n",
    "# Define dataset and dataloader\n",
    "ds = ArrayDataset(img=images, img_transform=imtrans, labels=df[\"Age\"].values)\n",
    "train_ds, val_ds = train_test_split(ds, test_size=0.2, random_state=0)\n",
    "train_loader = DataLoader(train_ds, batch_size=batch_size, shuffle=True, num_workers=0, pin_memory=torch.cuda.is_available())\n",
    "val_loader = DataLoader(val_ds, batch_size=batch_size, num_workers=0, pin_memory=torch.cuda.is_available())\n",
    "\n",
    "# Check data shape\n",
    "tr = first(train_loader)\n",
    "print(f\"training: ({list(tr[0].shape)}, {list(tr[1].shape)}) \\u00D7 {len(train_loader)}\")\n",
    "vl = first(val_loader)\n",
    "print(f\"validation: ({list(vl[0].shape)}, {list(vl[1].shape)}) \\u00D7 {len(val_loader)}\")\n",
    "\n",
    "_, _, height, width, depth = tr[0].size()"
   ]
  },
  {
   "cell_type": "markdown",
   "metadata": {},
   "source": [
    "## Check data shape and visualize"
   ]
  },
  {
   "cell_type": "code",
   "execution_count": null,
   "metadata": {},
   "outputs": [],
   "source": [
    "fig = plt.figure(\"Example image for training\", (12, 6))\n",
    "ax = fig.add_axes([0.1, 0.1, 0.8, 0.8])\n",
    "ax.set_title(f\"Age = {tr[1][0]} years\")\n",
    "ax.imshow(np.rot90(tr[0][0,0,:, :, 30].detach().cpu()), cmap=\"gray\")\n",
    "ax.axis('off')\n",
    "plt.savefig(os.path.join(model_dir, \"ImageWithAge.tif\"), dpi=300)\n",
    "plt.show"
   ]
  },
  {
   "cell_type": "markdown",
   "metadata": {
    "id": "6oiiNZvMvKus"
   },
   "source": [
    "## Create model"
   ]
  },
  {
   "cell_type": "code",
   "execution_count": 8,
   "metadata": {
    "id": "Lgsey9jovKus"
   },
   "outputs": [],
   "source": [
    "max_epochs = 50\n",
    "val_interval = 1\n",
    "lr = 1e-4\n",
    "\n",
    "# Create Regressor, L1Loss, and Adam optimizer\n",
    "device = torch.device(\"cuda\")\n",
    "# device = torch.device(\"mps\")\n",
    "# device = torch.device(\"cpu\")\n",
    "model = Regressor(\n",
    "    in_shape=[1, 64, 64, 64],\n",
    "    out_shape=1,\n",
    "    channels=(16, 32, 64, 128, 256),\n",
    "    strides=(2, 2, 2, 2),\n",
    "    kernel_size=3,\n",
    "    num_res_units=2\n",
    ").to(device)\n",
    "\n",
    "loss_function = nn.L1Loss()\n",
    "optimizer = torch.optim.Adam(model.parameters(), lr, weight_decay=1e-5)\n",
    "lr_scheduler = torch.optim.lr_scheduler.CosineAnnealingLR(optimizer, T_max=max_epochs)\n",
    "mae_metric = MAEMetric(reduction=\"mean\")\n",
    "post_pred = Compose([Activations()])\n",
    "    \n",
    "# Use AMP to accelerate training\n",
    "if torch.cuda.is_available():\n",
    "    scaler = torch.cuda.amp.GradScaler()"
   ]
  },
  {
   "cell_type": "markdown",
   "metadata": {},
   "source": [
    "## Print model"
   ]
  },
  {
   "cell_type": "code",
   "execution_count": null,
   "metadata": {},
   "outputs": [],
   "source": [
    "torchinfo.summary(model, input_size=(5, 1, 64, 64, 64))"
   ]
  },
  {
   "cell_type": "markdown",
   "metadata": {
    "id": "kSgfm5-cvKut"
   },
   "source": [
    "## Execute training process"
   ]
  },
  {
   "cell_type": "code",
   "execution_count": null,
   "metadata": {
    "id": "hCtJPgU9vKut",
    "scrolled": true
   },
   "outputs": [],
   "source": [
    "def osa(model, input, label, loss_function, patch_size=10):\n",
    "    model.eval()\n",
    "    batch_size, _, height, width, depth = input.size()\n",
    "    occlusion_map = np.zeros((batch_size, height, width, depth))\n",
    "    for i in range(0, height, patch_size):\n",
    "        for j in range(0, width, patch_size):\n",
    "            for k in range(0, depth, patch_size):\n",
    "                # Occluded image\n",
    "                occluded_image = input.clone()\n",
    "                occluded_image[:, :, i:i + patch_size, j:j + patch_size, k:k + patch_size] = 0\n",
    "                occluded_image.requires_grad_(True)\n",
    "                # Forward pass\n",
    "                output = model(occluded_image).flatten()\n",
    "                loss = loss_function(output, label)\n",
    "                # Gradients\n",
    "                grad = torch.autograd.grad(loss, occluded_image)[0].abs().mean(dim=1).sum(dim=1).sum(dim=1).sum(dim=1).cpu().numpy()\n",
    "                # Occlusion sensitivity map\n",
    "                for i_batch in range(0, batch_size):\n",
    "                    occlusion_map[i_batch, i:i + patch_size, j:j + patch_size, k:k + patch_size] = -grad[i_batch]\n",
    "    return occlusion_map\n",
    "\n",
    "best_metric = float(\"inf\")\n",
    "best_metric_epoch = -1\n",
    "best_metrics_epochs_and_time = [[], [], []]\n",
    "epoch_loss_values = []\n",
    "epoch_metric_values = []\n",
    "metric_values = []\n",
    "\n",
    "total_start = time.time()\n",
    "for epoch in range(max_epochs):\n",
    "    epoch_start = time.time()\n",
    "    print(\"-\" * 10)\n",
    "    print(f\"Epoch {epoch + 1}/{max_epochs}\")\n",
    "    model.train()\n",
    "    epoch_loss = 0\n",
    "    epoch_metric = 0\n",
    "    step = 0\n",
    "    for batch_data in train_loader:\n",
    "        step_start = time.time()\n",
    "        step += 1\n",
    "        inputs, labels = batch_data[0].to(device), batch_data[1].to(device)\n",
    "        optimizer.zero_grad()\n",
    "        outputs = model(inputs).flatten()\n",
    "        loss = loss_function(outputs, labels)\n",
    "        if torch.cuda.is_available():\n",
    "            scaler.scale(loss).backward()\n",
    "            scaler.step(optimizer)\n",
    "            scaler.update()\n",
    "        else:\n",
    "            loss.backward()\n",
    "            optimizer.step()\n",
    "        epoch_loss += loss.item()\n",
    "        outputs = torch.tensor([post_pred(i) for i in decollate_batch(outputs)]).to(labels.device)\n",
    "        mae_metric(y_pred=outputs.reshape(batch_size, -1), y=labels.reshape(batch_size, -1))\n",
    "        epoch_metric += mae_metric.aggregate().item()\n",
    "        print(\n",
    "            f\"{step}/{len(train_ds) // train_loader.batch_size}\"\n",
    "            f\"; Training loss: {loss.item():.4f}\"\n",
    "            f\"; Step time: {(time.time() - step_start):.4f}\"\n",
    "        )\n",
    "    lr_scheduler.step()\n",
    "    epoch_loss /= step\n",
    "    epoch_loss_values.append(epoch_loss)\n",
    "    print(f\"Epoch {epoch + 1} average loss: {epoch_loss:.4f}\")\n",
    "    logger.info(f\"Epoch {epoch + 1} average loss: {epoch_loss:.4f}\")\n",
    "\n",
    "    epoch_metric /= step\n",
    "    epoch_metric_values.append(epoch_metric)\n",
    "\n",
    "    if (epoch + 1) % val_interval == 0:\n",
    "        model.eval()\n",
    "        with torch.no_grad():\n",
    "            val_metric = 0\n",
    "            val_step = 0\n",
    "            for val_data in val_loader:\n",
    "                val_step += 1\n",
    "                val_inputs, val_labels = val_data[0].to(device), val_data[1].to(device)\n",
    "                val_outputs = model(val_inputs).flatten()\n",
    "                val_outputs = torch.tensor([post_pred(i) for i in decollate_batch(val_outputs)]).to(val_labels.device)\n",
    "                mae_metric(y_pred=val_outputs.reshape(batch_size, -1), y=val_labels.reshape(batch_size, -1))\n",
    "                val_metric += mae_metric.aggregate().item()\n",
    "            \n",
    "            val_metric /= val_step\n",
    "            metric_values.append(val_metric)\n",
    "\n",
    "        if val_metric < best_metric:\n",
    "            # Occlusion sensitivity analysis\n",
    "            summary_occlusion_map = np.zeros((height, width, depth))\n",
    "            map_count = 0\n",
    "            for val_data in val_loader:\n",
    "                val_inputs, val_labels = val_data[0].to(device), val_data[1].to(device)\n",
    "                occlusion_maps = osa(model, val_inputs, val_labels, loss_function)\n",
    "                map_count += occlusion_maps.shape[0]\n",
    "                for occlusion_map in occlusion_maps:\n",
    "                    summary_occlusion_map += occlusion_map\n",
    "            summary_occlusion_map /= map_count\n",
    "            with open(os.path.join(model_dir, f'BestMetricModel_OcclusionSensitivityMap.npy'), 'wb') as f:\n",
    "                np.save(f, summary_occlusion_map)\n",
    "\n",
    "            best_metric = val_metric\n",
    "            best_metric_epoch = epoch + 1\n",
    "            best_metrics_epochs_and_time[0].append(best_metric)\n",
    "            best_metrics_epochs_and_time[1].append(best_metric_epoch)\n",
    "            best_metrics_epochs_and_time[2].append(time.time() - total_start)\n",
    "            torch.save(\n",
    "                model.state_dict(),\n",
    "                os.path.join(model_dir, \"BestMetricModel.pth\"),\n",
    "            )\n",
    "            print(\"New best metric model saved\")\n",
    "            \n",
    "        print(\n",
    "            f\"Epoch {epoch + 1} MAE: {val_metric:.4f}\"\n",
    "            f\"\\nBest MAE: {best_metric:.4f} at epoch {best_metric_epoch}\"\n",
    "        )\n",
    "        logger.info(f\"Epoch {epoch + 1} MAE: {epoch_metric:.4f}\")\n",
    "\n",
    "    print(f\"Time consumed for epoch {epoch + 1}: {(time.time() - epoch_start):.4f}\")\n",
    "    mae_metric.reset()"
   ]
  },
  {
   "cell_type": "markdown",
   "metadata": {
    "id": "DKGtHRCOvKuu"
   },
   "source": [
    "## Plot loss and metric"
   ]
  },
  {
   "cell_type": "code",
   "execution_count": null,
   "metadata": {
    "colab": {
     "base_uri": "https://localhost:8080/"
    },
    "executionInfo": {
     "elapsed": 114029,
     "status": "ok",
     "timestamp": 1693203814519,
     "user": {
      "displayName": "Chang-hyun Park",
      "userId": "11098257337995388595"
     },
     "user_tz": -540
    },
    "id": "UaA52OQXvKuu",
    "outputId": "2720118d-f37c-4a8b-a413-b7b37cc151e4",
    "tags": []
   },
   "outputs": [],
   "source": [
    "total_time = time.time() - total_start\n",
    "print(f\"Training completed; Best MAE: {best_metric:.4f} at epoch {best_metric_epoch}; Total time consumed: {total_time}.\")\n",
    "logger.info(\n",
    "    f\"Best MAE: {best_metric:.4f} at epoch {best_metric_epoch}; \"\n",
    "    f\"Total time consumed: {total_time}\"\n",
    "    )\n",
    "\n",
    "fig = plt.figure(\"Performance in training\", (12, 6))\n",
    "ax1 = fig.add_subplot(1, 2, 1)\n",
    "ax1.set_title(\"Loss\")\n",
    "x = [i + 1 for i in range(len(epoch_loss_values))]\n",
    "y = epoch_loss_values\n",
    "ax1.plot(x, y, color=\"red\")\n",
    "ax1.set_xlabel(\"Epoch\")\n",
    "ax1.set_ylabel(\"Loss\")\n",
    "ax2 = fig.add_subplot(1, 2, 2)\n",
    "ax2.set_title(\"MAE\")\n",
    "x1 = [i + 1 for i in range(len(epoch_loss_values))]\n",
    "x2 = [val_interval * (i + 1) for i in range(len(metric_values))]\n",
    "y1 = epoch_metric_values\n",
    "y2 = metric_values\n",
    "ax2.plot(x1, y1, color=\"red\")\n",
    "ax2.plot(x2, y2, color=\"blue\")\n",
    "ax2.set_xlabel(\"Epoch\")\n",
    "ax2.set_ylabel(\"MAE\")\n",
    "ax2.legend([\"Train\",\"Validation\"])\n",
    "plt.savefig(os.path.join(model_dir, \"Performance.tif\"), dpi=300)\n",
    "plt.show"
   ]
  },
  {
   "cell_type": "markdown",
   "metadata": {
    "id": "KbLhXzESvKuu"
   },
   "source": [
    "## Check best model output"
   ]
  },
  {
   "cell_type": "code",
   "execution_count": null,
   "metadata": {},
   "outputs": [],
   "source": [
    "testidx = 3\n",
    "model.load_state_dict(torch.load(os.path.join(model_dir, \"BestMetricModel.pth\")))\n",
    "model.eval()\n",
    "with torch.no_grad():\n",
    "    # Select one image to evaluate and visualize the model output\n",
    "    val_input = val_ds[testidx][0].unsqueeze(0).to(device)\n",
    "    val_output = model(val_input)\n",
    "    val_output = post_pred(val_output)\n",
    "\n",
    "fig = plt.figure(\"Actual vs. Predicted\", (12, 6))\n",
    "ax = fig.add_axes([0.1, 0.1, 0.8, 0.8])\n",
    "ax.set_title(f\"Actual age = {val_ds[testidx][1]} years\"\n",
    "             f\"\\nEstimated age = {val_output.item():.1f} years\"\n",
    "             f\"\\nBrain age gap = {val_output.item() - val_ds[testidx][1]:.1f} years\")\n",
    "ax.imshow(np.rot90(val_ds[testidx][0][0,:, :, 30].detach().cpu()), cmap=\"gray\")\n",
    "ax.axis('off')\n",
    "plt.savefig(os.path.join(model_dir, \"Actual_Predicted.tif\"), dpi=300)\n",
    "plt.show"
   ]
  }
 ],
 "metadata": {
  "colab": {
   "gpuType": "T4",
   "provenance": [],
   "toc_visible": true
  },
  "kernelspec": {
   "display_name": "Python 3 (ipykernel)",
   "language": "python",
   "name": "python3"
  },
  "language_info": {
   "codemirror_mode": {
    "name": "ipython",
    "version": 3
   },
   "file_extension": ".py",
   "mimetype": "text/x-python",
   "name": "python",
   "nbconvert_exporter": "python",
   "pygments_lexer": "ipython3",
   "version": "3.11.7"
  }
 },
 "nbformat": 4,
 "nbformat_minor": 1
}
